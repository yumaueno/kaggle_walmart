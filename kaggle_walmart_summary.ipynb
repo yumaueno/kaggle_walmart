{
 "cells": [
  {
   "cell_type": "markdown",
   "id": "demographic-freight",
   "metadata": {},
   "source": [
    "# 分析結果まとめ"
   ]
  },
  {
   "cell_type": "markdown",
   "id": "integral-sharing",
   "metadata": {},
   "source": [
    "## データメモ\n",
    "### feature\n",
    "- 店舗の特徴が格納されている\n",
    "- 45店舗\n",
    "- 各店舗週別\n",
    "- 気温、ガソリン価格、Markdown変数5つ→プロモーション、CPI（消費者物価指数）、失業変数、休日があるか否か\n",
    "\n",
    "### stores\n",
    "- 45店舗別のタイプと面積\n",
    "\n",
    "### train\n",
    "- 各店舗ごと部門ごとの日別データと週単位の価格が記載\n",
    "- 部門はおそらく取り扱いカテゴリーみたいなもの\n",
    "- 期間：2010年2月5日〜2012年10月26日の143週間\n",
    "\n",
    "### test\n",
    "- 期間：2012年11月2日〜2013年7月26日\n",
    "\n",
    "## EDAまとめ\n",
    "- 人気の低いカテゴリは店舗によっては売れていない週もある\n",
    "- 売上には負の値が入っている場合がある\n",
    "- 店舗のタイプやSizeなどは売上に大きな影響を与えている\n",
    "- 各種プロモーションの変数（Markdown）やCPIやUnemploymentなど週に紐づく特徴量は売上との相関が若干ある\n",
    "- Holidayは売上との相関が著しく低い\n",
    "- 週別に見ると、年末特に11月12月に売上が上がり、さらに月末に売上が伸びる傾向にある\n",
    "\n",
    "## 前処理まとめ\n",
    "- 既存のデータは全て結合し特徴量として投入\n",
    "- 売上が負の場合は0に補正する\n",
    "- Monthデータを特徴量として追加\n",
    "- 月のうち上旬・中旬・下旬のカテゴリを特徴量として追加\n",
    "- 欠損値処理なし\n",
    "- LightGBM用にカテゴリ変数指定\n",
    "\n",
    "## モデル構築\n",
    "- 手法はLightGBMを使用\n",
    "- 今回のデータセットではひとまず勾配ブースティング木が有力かと思われる\n",
    "- パラメータチューニングはOptunaを利用し簡易的に実施\n",
    "- 検証データはランダムで分けず、未来3ヶ月分を検証データとする\n",
    "\n",
    "## 評価指標\n",
    "- Holidayに重みをつけたWMAEがコンペの評価指標であり、Public Scoreにて3347.64654\n",
    "- LightGBM自体の損失関数はMAEで実施しているが本来であれば自作関数としてWMAEを定義して実装するべきかもしれない\n",
    "\n",
    "\n",
    "## 今後の課題\n",
    "- 階層ベイズ推定を用いて個別店舗のパラメータの制御と全体の売上のパラメータを上手く推定すれば売上が上がる？\n",
    "- WMAEを損失関数として定義して実装するべき？\n",
    "- 検証データのとり方\n",
    "- 季節要因など他の時系列データの特徴量追加の可能性\n"
   ]
  },
  {
   "cell_type": "code",
   "execution_count": null,
   "id": "designing-concentration",
   "metadata": {},
   "outputs": [],
   "source": []
  }
 ],
 "metadata": {
  "kernelspec": {
   "display_name": "Python 3",
   "language": "python",
   "name": "python3"
  },
  "language_info": {
   "codemirror_mode": {
    "name": "ipython",
    "version": 3
   },
   "file_extension": ".py",
   "mimetype": "text/x-python",
   "name": "python",
   "nbconvert_exporter": "python",
   "pygments_lexer": "ipython3",
   "version": "3.8.6"
  }
 },
 "nbformat": 4,
 "nbformat_minor": 5
}
